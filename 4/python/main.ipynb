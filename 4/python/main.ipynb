{
 "cells": [
  {
   "cell_type": "code",
   "execution_count": 37,
   "outputs": [
    {
     "name": "stdout",
     "output_type": "stream",
     "text": [
      "[[11  1  2  3]\n",
      " [ 1 11  3  2]\n",
      " [ 2  3 11  1]\n",
      " [ 3  2  1 11]]\n",
      "------------ Iteration 1 ------------\n",
      "Max element: 1, 4 = 3\n",
      "fi = pi/4\n",
      "Q:\n",
      "cos \\varphi & 0 & 0 & -sin \\varphi \\\\\n",
      "0 & 1 & 0 & 0 \\\\\n",
      "0 & 0 & 1 & 0 \\\\\n",
      "sin \\varphi & 0 & 0 & cos \\varphi \\\\\n",
      "\n",
      "0.70711 & 0 & 0 & -0.7071 \\\\\n",
      "0 & 1 & 0 & 0 \\\\\n",
      "0 & 0 & 1 & 0 \\\\\n",
      "0.70711 & 0 & 0 & 0.70711 \\\\\n",
      "Q_t\n",
      "0.70711 & 0 & 0 & 0.70711 \\\\\n",
      "0 & 1 & 0 & 0 \\\\\n",
      "0 & 0 & 1 & 0 \\\\\n",
      "-0.7071 & 0 & 0 & 0.70711 \\\\\n",
      "A:\n",
      "14 & 2.12132 & 2.12132 & -0 \\\\\n",
      "2.12132 & 11 & 3 & 0.70711 \\\\\n",
      "2.12132 & 3 & 11 & -0.7071 \\\\\n",
      "-0 & 0.70711 & -0.7071 & 8 \\\\\n",
      "------------ Iteration 2 ------------\n",
      "Max element: 2, 3 = 3.0\n",
      "fi = pi/4\n",
      "Q:\n",
      "1 & 0 & 0 & 0 \\\\\n",
      "0 & cos \\varphi & -sin \\varphi & 0 \\\\\n",
      "0 & sin \\varphi & cos \\varphi & 0 \\\\\n",
      "0 & 0 & 0 & 1 \\\\\n",
      "\n",
      "1 & 0 & 0 & 0 \\\\\n",
      "0 & 0.70711 & -0.7071 & 0 \\\\\n",
      "0 & 0.70711 & 0.70711 & 0 \\\\\n",
      "0 & 0 & 0 & 1 \\\\\n",
      "Q_t\n",
      "1 & 0 & 0 & 0 \\\\\n",
      "0 & 0.70711 & 0.70711 & 0 \\\\\n",
      "0 & -0.7071 & 0.70711 & 0 \\\\\n",
      "0 & 0 & 0 & 1 \\\\\n",
      "A:\n",
      "14 & 3 & 0 & -0 \\\\\n",
      "3 & 14 & -0 & 0 \\\\\n",
      "0 & -0 & 8 & -1 \\\\\n",
      "-0 & 0 & -1 & 8 \\\\\n",
      "------------ Iteration 3 ------------\n",
      "Max element: 1, 2 = 3.0000000000000004\n",
      "fi = pi/4\n",
      "Q:\n",
      "cos \\varphi & -sin \\varphi & 0 & 0 \\\\\n",
      "sin \\varphi & cos \\varphi & 0 & 0 \\\\\n",
      "0 & 0 & 1 & 0 \\\\\n",
      "0 & 0 & 0 & 1 \\\\\n",
      "\n",
      "0.70711 & -0.7071 & 0 & 0 \\\\\n",
      "0.70711 & 0.70711 & 0 & 0 \\\\\n",
      "0 & 0 & 1 & 0 \\\\\n",
      "0 & 0 & 0 & 1 \\\\\n",
      "Q_t\n",
      "0.70711 & 0.70711 & 0 & 0 \\\\\n",
      "-0.7071 & 0.70711 & 0 & 0 \\\\\n",
      "0 & 0 & 1 & 0 \\\\\n",
      "0 & 0 & 0 & 1 \\\\\n",
      "A:\n",
      "17 & 0 & -0 & -0 \\\\\n",
      "-0 & 11 & -0 & 0 \\\\\n",
      "-0 & -0 & 8 & -1 \\\\\n",
      "-0 & 0 & -1 & 8 \\\\\n",
      "------------ Iteration 4 ------------\n",
      "Max element: 3, 4 = -1.0000000000000002\n",
      "fi = pi/4\n",
      "Q:\n",
      "1 & 0 & 0 & 0 \\\\\n",
      "0 & 1 & 0 & 0 \\\\\n",
      "0 & 0 & cos \\varphi & -sin \\varphi \\\\\n",
      "0 & 0 & sin \\varphi & cos \\varphi \\\\\n",
      "\n",
      "1 & 0 & 0 & 0 \\\\\n",
      "0 & 1 & 0 & 0 \\\\\n",
      "0 & 0 & 0.70711 & -0.7071 \\\\\n",
      "0 & 0 & 0.70711 & 0.70711 \\\\\n",
      "Q_t\n",
      "1 & 0 & 0 & 0 \\\\\n",
      "0 & 1 & 0 & 0 \\\\\n",
      "0 & 0 & 0.70711 & 0.70711 \\\\\n",
      "0 & 0 & -0.7071 & 0.70711 \\\\\n",
      "A:\n",
      "17 & 0 & -0 & -0 \\\\\n",
      "-0 & 11 & -0 & 0 \\\\\n",
      "-0 & -0 & 7 & 0 \\\\\n",
      "-0 & 0 & -0 & 9 \\\\\n"
     ]
    }
   ],
   "source": [
    "import numpy as np\n",
    "A = np.array([[11, 1, 2, 3],\n",
    "              [1, 11, 3, 2],\n",
    "              [2, 3, 11, 1],\n",
    "              [3, 2, 1, 11]])\n",
    "A_copy = A.copy()\n",
    "\n",
    "print(A)\n",
    "def print_kekw_matrix(A):\n",
    "    for i in range(4):\n",
    "            row = ''\n",
    "            for j in range(4):\n",
    "                kek = A[i][j]\n",
    "                row += str(kek).rstrip('0').rstrip('.') + ' & '\n",
    "            row = row[:-2]\n",
    "            row += '\\\\\\\\'\n",
    "            print(row)\n",
    "def print_matrix(matrix):\n",
    "    if len(matrix.shape) == 2:\n",
    "        for i in range(matrix.shape[0]):\n",
    "            row = ''\n",
    "            for j in range(matrix.shape[1]):\n",
    "                kek = matrix[i][j]\n",
    "                if kek > 0:\n",
    "                    row += str(round(kek, 5)).rstrip('0').rstrip('.') + ' & '\n",
    "                else:\n",
    "                    row += str(round(kek, 4)).rstrip('0').rstrip('.') + ' & '\n",
    "            row = row[:-2]\n",
    "            row += '\\\\\\\\'\n",
    "            print(row)\n",
    "    elif len(matrix.shape) == 1:\n",
    "        row = ''\n",
    "        for i in range(matrix.shape[0]):\n",
    "            kek = matrix[i]\n",
    "            if kek > 0:\n",
    "                row += str(round(kek, 5)).rstrip('0').rstrip('.') + ' \\\\\\\\ '\n",
    "            else:\n",
    "                row += str(round(kek, 4)).rstrip('0').rstrip('.') + ' \\\\\\\\ '\n",
    "        print(row)\n",
    "\n",
    "def get_max_elem(matr):\n",
    "    D = np.diag(np.diag(matr))\n",
    "    LU = np.absolute(matr - D)\n",
    "    amax = np.argmax(LU)\n",
    "    return amax // LU.shape[1], amax % LU.shape[0]\n",
    "\n",
    "i = 1\n",
    "\n",
    "Q_array = []\n",
    "while True:\n",
    "\n",
    "    max_elem = get_max_elem(A)\n",
    "    if abs(A[max_elem]) < 0.01:\n",
    "        break\n",
    "    print(f'------------ Iteration {i} ------------')\n",
    "    print(f'Max element: {max_elem[0] + 1}, {max_elem[1] + 1} = {A[max_elem]}')\n",
    "    if A[max_elem[0]][max_elem[0]] == A[max_elem[1]][max_elem[1]]:\n",
    "        print(f'fi = pi/4')\n",
    "        fi = np.pi / 4\n",
    "    else:\n",
    "        # Тут не уверен если кого-то сюда зайдет сами разберетесь))\n",
    "        fi = np.arctan((A[max_elem[0]][max_elem[0]] - A[max_elem[1]][max_elem[1]])/(2 * A[max_elem[1]][max_elem[0]])) / 2\n",
    "        print(f'fi = {round(fi, 5)}')\n",
    "\n",
    "    Q = np.eye(A.shape[0])\n",
    "    Q[max_elem[0]][max_elem[0]] = np.cos(fi)\n",
    "    Q[max_elem[0]][max_elem[1]] = -np.sin(fi)\n",
    "    Q[max_elem[1]][max_elem[0]] = np.sin(fi)\n",
    "    Q[max_elem[1]][max_elem[1]] = np.cos(fi)\n",
    "    Q_array.append(Q)\n",
    "    Q_print = np.eye(A.shape[0]).tolist()\n",
    "\n",
    "    Q_print[max_elem[0]][max_elem[0]] = \"cos \\\\varphi\"\n",
    "    Q_print[max_elem[0]][max_elem[1]] = \"-sin \\\\varphi\"\n",
    "    Q_print[max_elem[1]][max_elem[0]] = \"sin \\\\varphi\"\n",
    "    Q_print[max_elem[1]][max_elem[1]] = \"cos \\\\varphi\"\n",
    "    print('Q:')\n",
    "    print_kekw_matrix(Q_print)\n",
    "    print()\n",
    "    print_matrix(Q)\n",
    "    print('Q_t')\n",
    "    print_matrix(Q.T)\n",
    "    A = Q.T @ A @ Q\n",
    "    print('A:')\n",
    "    print_matrix(A)\n",
    "    i += 1\n"
   ],
   "metadata": {
    "collapsed": false,
    "pycharm": {
     "name": "#%%\n"
    }
   }
  },
  {
   "cell_type": "code",
   "execution_count": 38,
   "outputs": [
    {
     "name": "stdout",
     "output_type": "stream",
     "text": [
      "Q[3]\n",
      "0.5 & -0.5 & -0.5 & -0.5 \\\\\n",
      "0.5 & 0.5 & -0.5 & 0.5 \\\\\n",
      "0.5 & 0.5 & 0.5 & -0.5 \\\\\n",
      "0.5 & -0.5 & 0.5 & 0.5 \\\\\n"
     ]
    }
   ],
   "source": [
    "import functools\n",
    "print(f'Q[{i-2}]')\n",
    "Q = functools.reduce(lambda a, b : a @ b, Q_array)\n",
    "print_matrix(Q)"
   ],
   "metadata": {
    "collapsed": false,
    "pycharm": {
     "name": "#%%\n"
    }
   }
  },
  {
   "cell_type": "code",
   "execution_count": 44,
   "outputs": [
    {
     "name": "stdout",
     "output_type": "stream",
     "text": [
      "Aq1 = \n",
      "[8.5 8.5 8.5 8.5]\n",
      "8.5 \\\\ 8.5 \\\\ 8.5 \\\\ 8.5 \\\\ \n",
      "Aq2 = \n",
      "-5.5 \\\\ 5.5 \\\\ 5.5 \\\\ -5.5 \\\\ \n",
      "Aq3 = \n",
      "-3.5 \\\\ -3.5 \\\\ 3.5 \\\\ 3.5 \\\\ \n",
      "Aq4 = \n",
      "-4.5 \\\\ 4.5 \\\\ -4.5 \\\\ 4.5 \\\\ \n"
     ]
    }
   ],
   "source": [
    "A = A_copy\n",
    "print('Aq1 = ')\n",
    "print_matrix(A@(Q[:, 0]))\n",
    "print('Aq2 = ')\n",
    "print_matrix(A@(Q[:, 1]))\n",
    "print('Aq3 = ')\n",
    "print_matrix(A@(Q[:, 2]))\n",
    "print('Aq4 = ')\n",
    "print_matrix(A@(Q[:, 3]))"
   ],
   "metadata": {
    "collapsed": false,
    "pycharm": {
     "name": "#%%\n"
    }
   }
  },
  {
   "cell_type": "code",
   "execution_count": 39,
   "outputs": [],
   "source": [],
   "metadata": {
    "collapsed": false,
    "pycharm": {
     "name": "#%%\n"
    }
   }
  }
 ],
 "metadata": {
  "kernelspec": {
   "display_name": "Python 3",
   "language": "python",
   "name": "python3"
  },
  "language_info": {
   "codemirror_mode": {
    "name": "ipython",
    "version": 2
   },
   "file_extension": ".py",
   "mimetype": "text/x-python",
   "name": "python",
   "nbconvert_exporter": "python",
   "pygments_lexer": "ipython2",
   "version": "2.7.6"
  }
 },
 "nbformat": 4,
 "nbformat_minor": 0
}