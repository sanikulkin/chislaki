{
 "cells": [
  {
   "cell_type": "code",
   "execution_count": 29,
   "id": "6b779944",
   "metadata": {},
   "outputs": [],
   "source": [
    "##ЗАДАНИЕ 1.1"
   ]
  },
  {
   "cell_type": "code",
   "execution_count": 56,
   "id": "4a3b7ccb",
   "metadata": {},
   "outputs": [],
   "source": [
    "import numpy as np\n",
    "from numpy import linalg as la\n",
    "\n",
    "N = 12\n",
    "ALPHA = (N - 50) / 100"
   ]
  },
  {
   "cell_type": "code",
   "execution_count": 57,
   "id": "6a3bcb35",
   "metadata": {},
   "outputs": [],
   "source": [
    "A = np.array([\n",
    "    [50 * (1 + 0.5 * N + ALPHA), 50 * (1 + 0.5 * N), 50 * (1 + 0.5 * N)],\n",
    "    [50.1 * (1 + 0.5 * N), 49.9 * (1 + 0.5 * N + ALPHA), 50 * (1 + 0.5 * N)],\n",
    "    [49.9 * (1 + 0.5 * N), 50 * (1 + 0.5 * N), 50.1 * (1 + 0.5 * N + ALPHA)]\n",
    "])\n",
    "A_RP = np.array([50 * (3 + 1.5 * N + ALPHA), 50 * (3 + 1.5 * N + ALPHA), 50 * (3 + 1.5 * N + ALPHA)])"
   ]
  },
  {
   "cell_type": "code",
   "execution_count": 83,
   "id": "47f11f1f",
   "metadata": {},
   "outputs": [
    {
     "name": "stdout",
     "output_type": "stream",
     "text": [
      "Матрица СЛАУ\n",
      " [[331.    350.    350.   ]\n",
      " [350.7   330.338 350.   ]\n",
      " [349.3   350.    331.662]] \n",
      "Правая часть [1031. 1031. 1031.]\n"
     ]
    }
   ],
   "source": [
    "print(\"Матрица СЛАУ\\n\", A, \"\\nПравая часть\", A_RP)"
   ]
  },
  {
   "cell_type": "code",
   "execution_count": 63,
   "id": "910c434c",
   "metadata": {},
   "outputs": [],
   "source": [
    "A_inv = la.inv(A)"
   ]
  },
  {
   "cell_type": "code",
   "execution_count": 64,
   "id": "3649eb17",
   "metadata": {},
   "outputs": [
    {
     "name": "stdout",
     "output_type": "stream",
     "text": [
      "Обратная матрица к А\n",
      " [[-0.03480949  0.01726642  0.01851305]\n",
      " [ 0.01598276 -0.03355974  0.01854883]\n",
      " [ 0.01979422  0.01723064 -0.03605689]]\n"
     ]
    }
   ],
   "source": [
    "print(\"Обратная матрица к А\\n\", A_inv)"
   ]
  },
  {
   "cell_type": "code",
   "execution_count": 65,
   "id": "6bda4202",
   "metadata": {},
   "outputs": [],
   "source": [
    "A_abs = np.absolute(A)\n",
    "A_inv_abs = np.absolute(A_inv)"
   ]
  },
  {
   "cell_type": "code",
   "execution_count": 66,
   "id": "74a2b27f",
   "metadata": {},
   "outputs": [
    {
     "name": "stdout",
     "output_type": "stream",
     "text": [
      "Модуль элементов A\n",
      " [[331.    350.    350.   ]\n",
      " [350.7   330.338 350.   ]\n",
      " [349.3   350.    331.662]] \n",
      "\n",
      " Модуль элементов обратной к А\n",
      " [[0.03480949 0.01726642 0.01851305]\n",
      " [0.01598276 0.03355974 0.01854883]\n",
      " [0.01979422 0.01723064 0.03605689]]\n"
     ]
    }
   ],
   "source": [
    "print(\"Модуль элементов A\\n\", A_abs, \"\\n\\n\", \"Модуль элементов обратной к А\\n\", A_inv_abs)"
   ]
  },
  {
   "cell_type": "code",
   "execution_count": 81,
   "id": "afbcd67d",
   "metadata": {},
   "outputs": [],
   "source": [
    "A_norm = la.norm(A, np.inf)\n",
    "A_inv_norm = la.norm(A_inv, np.inf) \n",
    "cond_A = A_norm * A_inv_norm\n",
    "check_cond_A = la.cond(A, np.inf)"
   ]
  },
  {
   "cell_type": "code",
   "execution_count": 82,
   "id": "774501fc",
   "metadata": {},
   "outputs": [
    {
     "name": "stdout",
     "output_type": "stream",
     "text": [
      "Норма А =  1031.038 \n",
      "Норма обратной матрицы к А =  0.07308174029418962\n",
      "Число обусловленности A =  75.35005134944068 \n",
      "Проверка =  75.35005134944068\n"
     ]
    }
   ],
   "source": [
    "print(\"Норма А = \", A_norm, \"\\nНорма обратной матрицы к А = \", A_inv_norm)\n",
    "print(\"Число обусловленности A = \", cond_A, \"\\nПроверка = \", check_cond_A)"
   ]
  },
  {
   "cell_type": "code",
   "execution_count": null,
   "id": "92a73dfc",
   "metadata": {},
   "outputs": [],
   "source": []
  }
 ],
 "metadata": {
  "kernelspec": {
   "display_name": "Python 3 (ipykernel)",
   "language": "python",
   "name": "python3"
  },
  "language_info": {
   "codemirror_mode": {
    "name": "ipython",
    "version": 3
   },
   "file_extension": ".py",
   "mimetype": "text/x-python",
   "name": "python",
   "nbconvert_exporter": "python",
   "pygments_lexer": "ipython3",
   "version": "3.10.4"
  }
 },
 "nbformat": 4,
 "nbformat_minor": 5
}
