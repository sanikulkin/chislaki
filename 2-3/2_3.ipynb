{
 "cells": [
  {
   "cell_type": "code",
   "execution_count": 414,
   "metadata": {
    "collapsed": true,
    "pycharm": {
     "name": "#%%\n"
    }
   },
   "outputs": [],
   "source": [
    "import numpy as np\n",
    "import matplotlib.pyplot as plt"
   ]
  },
  {
   "cell_type": "code",
   "execution_count": 415,
   "outputs": [],
   "source": [
    "def print_matrix(matrix, left_cols=None, right_cols=None):\n",
    "    if len(matrix.shape) == 2:\n",
    "        if left_cols is None:\n",
    "            for i in range(matrix.shape[0]):\n",
    "                row = ''\n",
    "                for j in range(matrix.shape[1]):\n",
    "                    kek = matrix[i][j]\n",
    "                    if kek > 0:\n",
    "                        row += str((round(kek, 5))) + ' & '\n",
    "                    else:\n",
    "                        row += str((round(kek, 4))) + ' & '\n",
    "                row = row[:-2]\n",
    "                row += '\\\\\\\\'\n",
    "                print(row)\n",
    "        else:\n",
    "            for i in range(matrix.shape[0]):\n",
    "                row = ''\n",
    "                for j in range(left_cols):\n",
    "                    kek = matrix[i][j]\n",
    "                    if kek > 0:\n",
    "                        row += str((round(kek, 5))) + ' & '\n",
    "                    else:\n",
    "                        row += str((round(kek, 4))) + ' & '\n",
    "                row += '\\ldots & '\n",
    "                for j in range(matrix.shape[1] - right_cols, matrix.shape[1]):\n",
    "                    kek = matrix[i][j]\n",
    "                    if kek > 0:\n",
    "                        row += str((round(kek, 5))) + ' & '\n",
    "                    else:\n",
    "                        row += str((round(kek, 4))) + ' & '\n",
    "                row = row[:-2]\n",
    "                row += '\\\\\\\\'\n",
    "                print(row)\n",
    "    elif len(matrix.shape) == 1:\n",
    "        row = ''\n",
    "        for i in range(matrix.shape[0]):\n",
    "            kek = matrix[i]\n",
    "            if kek > 0:\n",
    "                row += str((round(kek, 5))) + ' \\\\\\\\ '\n",
    "            else:\n",
    "                row += str((round(kek, 4))) + ' \\\\\\\\ '\n",
    "        print(row)"
   ],
   "metadata": {
    "collapsed": false,
    "pycharm": {
     "name": "#%%\n"
    }
   }
  },
  {
   "cell_type": "code",
   "execution_count": 416,
   "outputs": [
    {
     "name": "stdout",
     "output_type": "stream",
     "text": [
      "0.25\n",
      "0.2 \\\\ 0.6 \\\\ 1.0 \\\\ 1.4 \\\\ 1.8 \\\\ 2.2 \\\\ 2.6 \\\\ 3.0 \\\\ 3.4 \\\\ 3.8 \\\\ 4.2 \\\\ 4.6 \\\\ 5.0 \\\\ 5.4 \\\\ 5.8 \\\\ 6.2 \\\\ 6.6 \\\\ 7.0 \\\\ 7.4 \\\\ 7.8 \\\\ \n"
     ]
    }
   ],
   "source": [
    "N = 1\n",
    "# N = 1\n",
    "a = 0\n",
    "b = (N+7)/N\n",
    "# b= 8/7\n",
    "n = 51\n",
    "m = 20\n",
    "lambd = 1/(1+(n-45)/2)\n",
    "# lambd=0.75\n",
    "h = (b-a)/m\n",
    "def K_line_element(s, t):\n",
    "    return t*(2*b-s)\n",
    "s = np.linspace(a,b,m+1)\n",
    "s_center = (s[1:]+s[:-1])/2\n",
    "y = [(N+3)/N*(val**2+(n-53)/2) for val in s_center]\n",
    "# y = [b*(val**3+val**2+4) for val in s_center]\n",
    "print(lambd)\n",
    "print_matrix(s_center)"
   ],
   "metadata": {
    "collapsed": false,
    "pycharm": {
     "name": "#%%\n"
    }
   }
  },
  {
   "cell_type": "code",
   "execution_count": 417,
   "outputs": [
    {
     "name": "stdout",
     "output_type": "stream",
     "text": [
      "3.16 & 3.08 & 3.0 & 2.92 & 2.84 & \\ldots & 1.96 & 1.88 & 1.8 & 1.72 & 1.64 \\\\\n",
      "3.08 & 9.24 & 9.0 & 8.76 & 8.52 & \\ldots & 5.88 & 5.64 & 5.4 & 5.16 & 4.92 \\\\\n",
      "3.0 & 9.0 & 15.0 & 14.6 & 14.2 & \\ldots & 9.8 & 9.4 & 9.0 & 8.6 & 8.2 \\\\\n",
      "2.92 & 8.76 & 14.6 & 20.44 & 19.88 & \\ldots & 13.72 & 13.16 & 12.6 & 12.04 & 11.48 \\\\\n",
      "2.84 & 8.52 & 14.2 & 19.88 & 25.56 & \\ldots & 17.64 & 16.92 & 16.2 & 15.48 & 14.76 \\\\\n",
      "2.76 & 8.28 & 13.8 & 19.32 & 24.84 & \\ldots & 21.56 & 20.68 & 19.8 & 18.92 & 18.04 \\\\\n",
      "2.68 & 8.04 & 13.4 & 18.76 & 24.12 & \\ldots & 25.48 & 24.44 & 23.4 & 22.36 & 21.32 \\\\\n",
      "2.6 & 7.8 & 13.0 & 18.2 & 23.4 & \\ldots & 29.4 & 28.2 & 27.0 & 25.8 & 24.6 \\\\\n",
      "2.52 & 7.56 & 12.6 & 17.64 & 22.68 & \\ldots & 33.32 & 31.96 & 30.6 & 29.24 & 27.88 \\\\\n",
      "2.44 & 7.32 & 12.2 & 17.08 & 21.96 & \\ldots & 37.24 & 35.72 & 34.2 & 32.68 & 31.16 \\\\\n",
      "2.36 & 7.08 & 11.8 & 16.52 & 21.24 & \\ldots & 41.16 & 39.48 & 37.8 & 36.12 & 34.44 \\\\\n",
      "2.28 & 6.84 & 11.4 & 15.96 & 20.52 & \\ldots & 45.08 & 43.24 & 41.4 & 39.56 & 37.72 \\\\\n",
      "2.2 & 6.6 & 11.0 & 15.4 & 19.8 & \\ldots & 49.0 & 47.0 & 45.0 & 43.0 & 41.0 \\\\\n",
      "2.12 & 6.36 & 10.6 & 14.84 & 19.08 & \\ldots & 52.92 & 50.76 & 48.6 & 46.44 & 44.28 \\\\\n",
      "2.04 & 6.12 & 10.2 & 14.28 & 18.36 & \\ldots & 56.84 & 54.52 & 52.2 & 49.88 & 47.56 \\\\\n",
      "1.96 & 5.88 & 9.8 & 13.72 & 17.64 & \\ldots & 60.76 & 58.28 & 55.8 & 53.32 & 50.84 \\\\\n",
      "1.88 & 5.64 & 9.4 & 13.16 & 16.92 & \\ldots & 58.28 & 62.04 & 59.4 & 56.76 & 54.12 \\\\\n",
      "1.8 & 5.4 & 9.0 & 12.6 & 16.2 & \\ldots & 55.8 & 59.4 & 63.0 & 60.2 & 57.4 \\\\\n",
      "1.72 & 5.16 & 8.6 & 12.04 & 15.48 & \\ldots & 53.32 & 56.76 & 60.2 & 63.64 & 60.68 \\\\\n",
      "1.64 & 4.92 & 8.2 & 11.48 & 14.76 & \\ldots & 50.84 & 54.12 & 57.4 & 60.68 & 63.96 \\\\\n"
     ]
    }
   ],
   "source": [
    "K = np.zeros((m,m))\n",
    "for i in range(m):\n",
    "    for j in range(i+1):\n",
    "        K[i,j] = K_line_element(s_center[i], s_center[j])\n",
    "        K[j,i] = K[i,j]\n",
    "print_matrix(K, 5, 5)"
   ],
   "metadata": {
    "collapsed": false,
    "pycharm": {
     "name": "#%%\n"
    }
   }
  },
  {
   "cell_type": "code",
   "execution_count": 418,
   "outputs": [
    {
     "name": "stdout",
     "output_type": "stream",
     "text": [
      "0.684 & -0.308 & -0.3 & -0.292 & -0.284 & \\ldots & -0.196 & -0.188 & -0.18 & -0.172 & -0.164 \\\\\n",
      "-0.308 & 0.076 & -0.9 & -0.876 & -0.852 & \\ldots & -0.588 & -0.564 & -0.54 & -0.516 & -0.492 \\\\\n",
      "-0.3 & -0.9 & -0.5 & -1.46 & -1.42 & \\ldots & -0.98 & -0.94 & -0.9 & -0.86 & -0.82 \\\\\n",
      "-0.292 & -0.876 & -1.46 & -1.044 & -1.988 & \\ldots & -1.372 & -1.316 & -1.26 & -1.204 & -1.148 \\\\\n",
      "-0.284 & -0.852 & -1.42 & -1.988 & -1.556 & \\ldots & -1.764 & -1.692 & -1.62 & -1.548 & -1.476 \\\\\n",
      "-0.276 & -0.828 & -1.38 & -1.932 & -2.484 & \\ldots & -2.156 & -2.068 & -1.98 & -1.892 & -1.804 \\\\\n",
      "-0.268 & -0.804 & -1.34 & -1.876 & -2.412 & \\ldots & -2.548 & -2.444 & -2.34 & -2.236 & -2.132 \\\\\n",
      "-0.26 & -0.78 & -1.3 & -1.82 & -2.34 & \\ldots & -2.94 & -2.82 & -2.7 & -2.58 & -2.46 \\\\\n",
      "-0.252 & -0.756 & -1.26 & -1.764 & -2.268 & \\ldots & -3.332 & -3.196 & -3.06 & -2.924 & -2.788 \\\\\n",
      "-0.244 & -0.732 & -1.22 & -1.708 & -2.196 & \\ldots & -3.724 & -3.572 & -3.42 & -3.268 & -3.116 \\\\\n",
      "-0.236 & -0.708 & -1.18 & -1.652 & -2.124 & \\ldots & -4.116 & -3.948 & -3.78 & -3.612 & -3.444 \\\\\n",
      "-0.228 & -0.684 & -1.14 & -1.596 & -2.052 & \\ldots & -4.508 & -4.324 & -4.14 & -3.956 & -3.772 \\\\\n",
      "-0.22 & -0.66 & -1.1 & -1.54 & -1.98 & \\ldots & -4.9 & -4.7 & -4.5 & -4.3 & -4.1 \\\\\n",
      "-0.212 & -0.636 & -1.06 & -1.484 & -1.908 & \\ldots & -5.292 & -5.076 & -4.86 & -4.644 & -4.428 \\\\\n",
      "-0.204 & -0.612 & -1.02 & -1.428 & -1.836 & \\ldots & -5.684 & -5.452 & -5.22 & -4.988 & -4.756 \\\\\n",
      "-0.196 & -0.588 & -0.98 & -1.372 & -1.764 & \\ldots & -5.076 & -5.828 & -5.58 & -5.332 & -5.084 \\\\\n",
      "-0.188 & -0.564 & -0.94 & -1.316 & -1.692 & \\ldots & -5.828 & -5.204 & -5.94 & -5.676 & -5.412 \\\\\n",
      "-0.18 & -0.54 & -0.9 & -1.26 & -1.62 & \\ldots & -5.58 & -5.94 & -5.3 & -6.02 & -5.74 \\\\\n",
      "-0.172 & -0.516 & -0.86 & -1.204 & -1.548 & \\ldots & -5.332 & -5.676 & -6.02 & -5.364 & -6.068 \\\\\n",
      "-0.164 & -0.492 & -0.82 & -1.148 & -1.476 & \\ldots & -5.084 & -5.412 & -5.74 & -6.068 & -5.396 \\\\\n"
     ]
    }
   ],
   "source": [
    "F = np.zeros((m,m))\n",
    "for i in range(m):\n",
    "    for j in range(m):\n",
    "        d=1 if i==j else 0\n",
    "        F[i,j] = (d-lambd*K[i,j]*h)\n",
    "print_matrix(F, 5, 5)"
   ],
   "metadata": {
    "collapsed": false,
    "pycharm": {
     "name": "#%%\n"
    }
   }
  },
  {
   "cell_type": "code",
   "execution_count": 419,
   "outputs": [
    {
     "name": "stdout",
     "output_type": "stream",
     "text": [
      "1.43656 & 0.39028 & 0.09423 & -0.2621 & \\ldots & 0.43195 & 0.1894 & -0.1744 & -0.4265 \\\\\n",
      "0.39028 & 1.92107 & 0.22237 & -0.6186 & \\ldots & 1.01939 & 0.44699 & -0.4115 & -1.0066 \\\\\n",
      "0.09423 & 0.22237 & 1.2082 & -0.5792 & \\ldots & 0.95443 & 0.41851 & -0.3853 & -0.9425 \\\\\n",
      "-0.2621 & -0.6186 & -0.5792 & 0.83091 & \\ldots & 0.27863 & 0.12218 & -0.1125 & -0.2751 \\\\\n",
      "-0.4507 & -1.0637 & -0.9959 & -0.2907 & \\ldots & -0.5755 & -0.2523 & 0.2323 & 0.56828 \\\\\n",
      "-0.3509 & -0.828 & -0.7753 & -0.2263 & \\ldots & -1.0613 & -0.4654 & 0.4284 & 1.04799 \\\\\n",
      "-0.0264 & -0.0624 & -0.0584 & -0.0171 & \\ldots & -0.8679 & -0.3806 & 0.35032 & 0.85699 \\\\\n",
      "0.31491 & 0.74318 & 0.69582 & 0.20313 & \\ldots & -0.119 & -0.0522 & 0.04804 & 0.11752 \\\\\n",
      "0.45471 & 1.07311 & 1.00472 & 0.29331 & \\ldots & 0.70602 & 0.30958 & -0.285 & -0.6972 \\\\\n",
      "0.3035 & 0.71625 & 0.67061 & 0.19577 & \\ldots & 1.0792 & 0.47322 & -0.4356 & -1.0657 \\\\\n",
      "-0.042 & -0.099 & -0.0927 & -0.0271 & \\ldots & 0.76169 & 0.33399 & -0.3075 & -0.7521 \\\\\n",
      "-0.3606 & -0.8509 & -0.7967 & -0.2326 & \\ldots & -0.0433 & -0.019 & 0.01748 & 0.04276 \\\\\n",
      "-0.4484 & -1.0582 & -0.9908 & -0.2892 & \\ldots & -0.8206 & -0.3598 & 0.33123 & 0.81029 \\\\\n",
      "-0.2493 & -0.5883 & -0.5508 & -0.1608 & \\ldots & -1.0727 & -0.4704 & 0.43299 & 1.05923 \\\\\n",
      "0.10939 & 0.25817 & 0.24171 & 0.07056 & \\ldots & -0.6383 & -0.2799 & 0.25764 & 0.63027 \\\\\n",
      "0.39804 & 0.93938 & 0.87952 & 0.25676 & \\ldots & 0.20463 & 0.08973 & -0.0826 & -0.2021 \\\\\n",
      "0.43195 & 1.01939 & 0.95443 & 0.27863 & \\ldots & 1.91657 & 0.40191 & -0.37 & -0.9051 \\\\\n",
      "0.1894 & 0.44699 & 0.41851 & 0.12218 & \\ldots & 0.40191 & 1.45687 & -0.4206 & -1.0288 \\\\\n",
      "-0.1744 & -0.4115 & -0.3853 & -0.1125 & \\ldots & -0.37 & -0.4206 & 0.798 & -0.4941 \\\\\n",
      "-0.4265 & -1.0066 & -0.9425 & -0.2751 & \\ldots & -0.9051 & -1.0288 & -0.4941 & 1.3568 \\\\\n"
     ]
    }
   ],
   "source": [
    "F_inv = np.linalg.inv(F)\n",
    "print_matrix(F_inv, 4, 4)"
   ],
   "metadata": {
    "collapsed": false,
    "pycharm": {
     "name": "#%%\n"
    }
   }
  },
  {
   "cell_type": "code",
   "execution_count": 420,
   "outputs": [
    {
     "name": "stdout",
     "output_type": "stream",
     "text": [
      "-3.84 \\\\ -2.56 \\\\ 0.0 \\\\ 3.84 \\\\ 8.96 \\\\ 15.36 \\\\ 23.04 \\\\ 32.0 \\\\ 42.24 \\\\ 53.76 \\\\ 66.56 \\\\ 80.64 \\\\ 96.0 \\\\ 112.64 \\\\ 130.56 \\\\ 149.76 \\\\ 170.24 \\\\ 192.0 \\\\ 215.04 \\\\ 239.36 \\\\ \n"
     ]
    }
   ],
   "source": [
    "print_matrix(np.array(y))"
   ],
   "metadata": {
    "collapsed": false,
    "pycharm": {
     "name": "#%%\n"
    }
   }
  },
  {
   "cell_type": "code",
   "execution_count": 421,
   "outputs": [
    {
     "name": "stdout",
     "output_type": "stream",
     "text": [
      "-30.7449 \\\\ -63.5981 \\\\ -54.4684 \\\\ -9.199 \\\\ 43.2378 \\\\ 69.2824 \\\\ 52.26627 \\\\ 3.07972 \\\\ -46.7978 \\\\ -65.4448 \\\\ -40.9271 \\\\ 11.06397 \\\\ 57.25407 \\\\ 68.08157 \\\\ 36.61686 \\\\ -17.0026 \\\\ -58.4604 \\\\ -61.2236 \\\\ -23.5236 \\\\ 30.51147 \\\\ \n"
     ]
    }
   ],
   "source": [
    "x_vect = np.linalg.solve(F, y)\n",
    "print_matrix(x_vect)"
   ],
   "metadata": {
    "collapsed": false,
    "pycharm": {
     "name": "#%%\n"
    }
   }
  },
  {
   "cell_type": "code",
   "execution_count": 421,
   "outputs": [],
   "source": [],
   "metadata": {
    "collapsed": false,
    "pycharm": {
     "name": "#%%\n"
    }
   }
  },
  {
   "cell_type": "code",
   "execution_count": 422,
   "outputs": [
    {
     "name": "stdout",
     "output_type": "stream",
     "text": [
      "[0.00402 0.02357 0.06217]\n",
      "[0.25359 0.61415 0.99733]\n",
      "[127.310857682328, -67.8680043992385, 20.2340977930667]\n"
     ]
    },
    {
     "data": {
      "text/plain": "<Figure size 640x480 with 1 Axes>",
      "image/png": "[encoded data removed]"
     },
     "metadata": {},
     "output_type": "display_data"
    }
   ],
   "source": [
    "import sympy as sy\n",
    "from sympy.solvers import solve\n",
    "x = sy.Symbol(\"x\")\n",
    "tau = b*np.sqrt(2*(N+7)/N)\n",
    "def uravnenie(x):\n",
    "    return np.sin(b*np.sqrt(2*(N+7)/N*x))+b*np.sqrt(2*(N+7)/N*x)*np.cos(b*np.sqrt(2*(N+7)/N*x))\n",
    "tangenses = [2.02875783811043, 4.91318043943488, 7.97866571241324]\n",
    "l = []\n",
    "for t in tangenses:\n",
    "   l.append(t**2/(b**3*2))\n",
    "\n",
    "print(np.round(l, 5))\n",
    "\n",
    "def fi(l_i):\n",
    "    return np.sqrt(2*(N+7)/N*l_i)\n",
    "\n",
    "# def fi(l_i):\n",
    "#     return np.sqrt(36/11*l_i)\n",
    "\n",
    "f_i = [fi(l_i) for l_i in l]\n",
    "\n",
    "print(np.round(f_i, 5))\n",
    "\n",
    "def f_top(k, x):\n",
    "    return (N+3)/N*(x**2+(n-53)/2)*sy.sin(k*x)\n",
    "\n",
    "def f_bot(k, x):\n",
    "    return (sy.sin(k*x))**2\n",
    "\n",
    "\n",
    "alpha = []\n",
    "for k in f_i:\n",
    "    top = sy.integrate(f_top(k, x), (x, a, b))\n",
    "    bot = sy.integrate(f_bot(k, x), (x, a, b))\n",
    "    alpha.append(top/bot)\n",
    "\n",
    "print(alpha)\n",
    "\n",
    "def answ(x):\n",
    "    return (N+3)/N*(x**2+(n-53)/2)+ lambd*(alpha[0]/(l[0]-lambd)*np.sin(f_i[0]*x) + alpha[1]/(l[1]-lambd)*np.sin(f_i[1]*x) + alpha[2]/(l[2]-lambd)*np.sin(f_i[2]*x))\n",
    "\n",
    "graph_x = np.linspace(a, b, 100)\n",
    "\n",
    "plt.plot(s_center, x_vect , 'ro', label='1 способ')\n",
    "plt.plot(graph_x, answ(graph_x), label='2 способ')\n",
    "plt.scatter(s_center, answ(s_center), s=20, marker='o')\n",
    "plt.legend()\n",
    "plt.savefig('graph.png')\n",
    "plt.show()"
   ],
   "metadata": {
    "collapsed": false,
    "pycharm": {
     "name": "#%%\n"
    }
   }
  },
  {
   "cell_type": "code",
   "execution_count": 423,
   "outputs": [
    {
     "name": "stdout",
     "output_type": "stream",
     "text": [
      "[-517.564612924199, 299.735354472883, -107.723925830332]\n"
     ]
    }
   ],
   "source": [
    "koefts_fi = []\n",
    "koefts_fi.append(alpha[0]/(l[0]-lambd))\n",
    "koefts_fi.append(alpha[1]/(l[1]-lambd))\n",
    "koefts_fi.append(alpha[2]/(l[2]-lambd))\n",
    "print(koefts_fi)"
   ],
   "metadata": {
    "collapsed": false,
    "pycharm": {
     "name": "#%%\n"
    }
   }
  },
  {
   "cell_type": "code",
   "execution_count": 424,
   "outputs": [
    {
     "name": "stdout",
     "output_type": "stream",
     "text": [
      "83.3604570763091\n"
     ]
    },
    {
     "data": {
      "text/plain": "      x       anal              pribl               error\n0   0.2 -30.744945  -6.55509105617960   -24.1898537281360\n1   0.6 -63.598070  -10.3510546213542   -53.2470150696306\n2   1.0 -54.468430  -11.9035692024972   -42.5648607929266\n3   1.4  -9.198995  -10.8823349163415    1.68333981355009\n4   1.8  43.237797  -7.36276496963399    50.6005616252613\n5   2.2  69.282399  -1.87445294736518    71.1568515018099\n6   2.6  52.266265   4.64084811517975    47.6254172632376\n7   3.0   3.079722   10.9585116344677   -7.87878927426469\n8   3.4 -46.797843   15.7692630837827   -62.5671060523241\n9   3.8 -65.444789   17.9156682788900   -83.3604570763091\n10  4.2 -40.927070   16.6286377757431   -57.5557075716919\n11  4.6  11.063974   11.7241965823980  -0.660222707469130\n12  5.0  57.254074   3.72565658973612    53.5284176761160\n13  5.4  68.081567  -6.11307595906864    74.1946430856983\n14  5.8  36.616857  -15.8926198034046    52.5094768297691\n15  6.2 -17.002642  -23.2546692352408    6.25202766446681\n16  6.6 -58.460450  -25.6471424452428   -32.8133071173744\n17  7.0 -61.223570  -20.6324566444978   -40.5911131898876\n18  7.4 -23.523605  -6.19602311339412   -17.3275822987526\n19  7.8  30.511466   18.9889722582059    11.5224942156600",
      "text/html": "<div>\n<style scoped>\n    .dataframe tbody tr th:only-of-type {\n        vertical-align: middle;\n    }\n\n    .dataframe tbody tr th {\n        vertical-align: top;\n    }\n\n    .dataframe thead th {\n        text-align: right;\n    }\n</style>\n<table border=\"1\" class=\"dataframe\">\n  <thead>\n    <tr style=\"text-align: right;\">\n      <th></th>\n      <th>x</th>\n      <th>anal</th>\n      <th>pribl</th>\n      <th>error</th>\n    </tr>\n  </thead>\n  <tbody>\n    <tr>\n      <th>0</th>\n      <td>0.2</td>\n      <td>-30.744945</td>\n      <td>-6.55509105617960</td>\n      <td>-24.1898537281360</td>\n    </tr>\n    <tr>\n      <th>1</th>\n      <td>0.6</td>\n      <td>-63.598070</td>\n      <td>-10.3510546213542</td>\n      <td>-53.2470150696306</td>\n    </tr>\n    <tr>\n      <th>2</th>\n      <td>1.0</td>\n      <td>-54.468430</td>\n      <td>-11.9035692024972</td>\n      <td>-42.5648607929266</td>\n    </tr>\n    <tr>\n      <th>3</th>\n      <td>1.4</td>\n      <td>-9.198995</td>\n      <td>-10.8823349163415</td>\n      <td>1.68333981355009</td>\n    </tr>\n    <tr>\n      <th>4</th>\n      <td>1.8</td>\n      <td>43.237797</td>\n      <td>-7.36276496963399</td>\n      <td>50.6005616252613</td>\n    </tr>\n    <tr>\n      <th>5</th>\n      <td>2.2</td>\n      <td>69.282399</td>\n      <td>-1.87445294736518</td>\n      <td>71.1568515018099</td>\n    </tr>\n    <tr>\n      <th>6</th>\n      <td>2.6</td>\n      <td>52.266265</td>\n      <td>4.64084811517975</td>\n      <td>47.6254172632376</td>\n    </tr>\n    <tr>\n      <th>7</th>\n      <td>3.0</td>\n      <td>3.079722</td>\n      <td>10.9585116344677</td>\n      <td>-7.87878927426469</td>\n    </tr>\n    <tr>\n      <th>8</th>\n      <td>3.4</td>\n      <td>-46.797843</td>\n      <td>15.7692630837827</td>\n      <td>-62.5671060523241</td>\n    </tr>\n    <tr>\n      <th>9</th>\n      <td>3.8</td>\n      <td>-65.444789</td>\n      <td>17.9156682788900</td>\n      <td>-83.3604570763091</td>\n    </tr>\n    <tr>\n      <th>10</th>\n      <td>4.2</td>\n      <td>-40.927070</td>\n      <td>16.6286377757431</td>\n      <td>-57.5557075716919</td>\n    </tr>\n    <tr>\n      <th>11</th>\n      <td>4.6</td>\n      <td>11.063974</td>\n      <td>11.7241965823980</td>\n      <td>-0.660222707469130</td>\n    </tr>\n    <tr>\n      <th>12</th>\n      <td>5.0</td>\n      <td>57.254074</td>\n      <td>3.72565658973612</td>\n      <td>53.5284176761160</td>\n    </tr>\n    <tr>\n      <th>13</th>\n      <td>5.4</td>\n      <td>68.081567</td>\n      <td>-6.11307595906864</td>\n      <td>74.1946430856983</td>\n    </tr>\n    <tr>\n      <th>14</th>\n      <td>5.8</td>\n      <td>36.616857</td>\n      <td>-15.8926198034046</td>\n      <td>52.5094768297691</td>\n    </tr>\n    <tr>\n      <th>15</th>\n      <td>6.2</td>\n      <td>-17.002642</td>\n      <td>-23.2546692352408</td>\n      <td>6.25202766446681</td>\n    </tr>\n    <tr>\n      <th>16</th>\n      <td>6.6</td>\n      <td>-58.460450</td>\n      <td>-25.6471424452428</td>\n      <td>-32.8133071173744</td>\n    </tr>\n    <tr>\n      <th>17</th>\n      <td>7.0</td>\n      <td>-61.223570</td>\n      <td>-20.6324566444978</td>\n      <td>-40.5911131898876</td>\n    </tr>\n    <tr>\n      <th>18</th>\n      <td>7.4</td>\n      <td>-23.523605</td>\n      <td>-6.19602311339412</td>\n      <td>-17.3275822987526</td>\n    </tr>\n    <tr>\n      <th>19</th>\n      <td>7.8</td>\n      <td>30.511466</td>\n      <td>18.9889722582059</td>\n      <td>11.5224942156600</td>\n    </tr>\n  </tbody>\n</table>\n</div>"
     },
     "execution_count": 424,
     "metadata": {},
     "output_type": "execute_result"
    }
   ],
   "source": [
    "import pandas as pd\n",
    "\n",
    "df = pd.DataFrame({'x': s_center, 'anal': x_vect})\n",
    "df['pribl'] = [answ(val) for val in s_center]\n",
    "df['error'] = df['anal'] - df['pribl']\n",
    "\n",
    "max_error = abs(df['error']).max()\n",
    "print(max_error)\n",
    "df"
   ],
   "metadata": {
    "collapsed": false,
    "pycharm": {
     "name": "#%%\n"
    }
   }
  },
  {
   "cell_type": "code",
   "execution_count": 425,
   "outputs": [
    {
     "name": "stdout",
     "output_type": "stream",
     "text": [
      "0.2 & -30.7449 & -6.5551 & 24.18985 \\\\\n",
      "0.6 & -63.5981 & -10.3511 & 53.24702 \\\\\n",
      "1.0 & -54.4684 & -11.9036 & 42.56486 \\\\\n",
      "1.4 & -9.199 & -10.8823 & 1.68334 \\\\\n",
      "1.8 & 43.2378 & -7.3628 & 50.60056 \\\\\n",
      "2.2 & 69.2824 & -1.8745 & 71.15685 \\\\\n",
      "2.6 & 52.26627 & 4.64085 & 47.62542 \\\\\n",
      "3.0 & 3.07972 & 10.95851 & 7.87879 \\\\\n",
      "3.4 & -46.7978 & 15.76926 & 62.56711 \\\\\n",
      "3.8 & -65.4448 & 17.91567 & 83.36046 \\\\\n",
      "4.2 & -40.9271 & 16.62864 & 57.55571 \\\\\n",
      "4.6 & 11.06397 & 11.72420 & 0.66022 \\\\\n",
      "5.0 & 57.25407 & 3.72566 & 53.52842 \\\\\n",
      "5.4 & 68.08157 & -6.1131 & 74.19464 \\\\\n",
      "5.8 & 36.61686 & -15.8926 & 52.50948 \\\\\n",
      "6.2 & -17.0026 & -23.2547 & 6.25203 \\\\\n",
      "6.6 & -58.4604 & -25.6471 & 32.81331 \\\\\n",
      "7.0 & -61.2236 & -20.6325 & 40.59111 \\\\\n",
      "7.4 & -23.5236 & -6.1960 & 17.32758 \\\\\n",
      "7.8 & 30.51147 & 18.98897 & 11.52249 \\\\\n"
     ]
    }
   ],
   "source": [
    "last_table = []\n",
    "for i in range(len(s_center)):\n",
    "    last_table.append([s_center[i], x_vect[i], answ(s_center[i]), abs(x_vect[i]-answ(s_center[i]))])\n",
    "last_table = np.array(last_table)\n",
    "print_matrix(last_table)"
   ],
   "metadata": {
    "collapsed": false,
    "pycharm": {
     "name": "#%%\n"
    }
   }
  }
 ],
 "metadata": {
  "kernelspec": {
   "display_name": "Python 3",
   "language": "python",
   "name": "python3"
  },
  "language_info": {
   "codemirror_mode": {
    "name": "ipython",
    "version": 2
   },
   "file_extension": ".py",
   "mimetype": "text/x-python",
   "name": "python",
   "nbconvert_exporter": "python",
   "pygments_lexer": "ipython2",
   "version": "2.7.6"
  }
 },
 "nbformat": 4,
 "nbformat_minor": 0
}