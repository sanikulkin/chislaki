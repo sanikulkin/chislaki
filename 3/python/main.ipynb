{
 "cells": [
  {
   "cell_type": "code",
   "execution_count": 1,
   "outputs": [
    {
     "name": "stdout",
     "output_type": "stream",
     "text": [
      "b = [16.4 16.4 16.4 16.4]\n",
      "F =\n",
      "0 & -0,0962 & -0,1923 & -0,2885 \\\\\n",
      "-0,0962 & 0 & -0,2885 & -0,1923 \\\\\n",
      "-0,1923 & -0,2885 & 0 & -0,0962 \\\\\n",
      "-0,2885 & -0,1923 & -0,0962 & 0 \\\\\n"
     ]
    }
   ],
   "source": [
    "import locale\n",
    "import numpy as np\n",
    "locale.setlocale(locale.LC_ALL, \"ru_RU\")\n",
    "\n",
    "betta = 1.04\n",
    "\n",
    "def print_matrix(matrix):\n",
    "    if len(matrix.shape) == 2:\n",
    "        for i in range(matrix.shape[0]):\n",
    "            row = ''\n",
    "            for j in range(matrix.shape[1]):\n",
    "                kek = matrix[i][j]\n",
    "                if kek > 0:\n",
    "                    row += locale.str((round(kek, 5))) + ' & '\n",
    "                else:\n",
    "                    row += locale.str((round(kek, 4))) + ' & '\n",
    "            row = row[:-2]\n",
    "            row += '\\\\\\\\'\n",
    "            print(row)\n",
    "    elif len(matrix.shape) == 1:\n",
    "        row = ''\n",
    "        for i in range(matrix.shape[0]):\n",
    "            kek = matrix[i]\n",
    "            if kek > 0:\n",
    "                row += locale.str((round(kek, 5))) + ' \\\\\\\\ '\n",
    "            else:\n",
    "                row += locale.str((round(kek, 4))) + ' \\\\\\\\ '\n",
    "        print(row)\n",
    "\n",
    "A = np.array([[betta*10, 1, 2, 3],\n",
    "              [1, betta*10, 3, 2],\n",
    "              [2, 3, betta*10, 1],\n",
    "              [3, 2, 1, betta*10]])\n",
    "x = np.array([1, 1, 1, 1])\n",
    "b = np.dot(A, x)\n",
    "print('b =', b)\n",
    "\n",
    "D = np.array([[1/(betta*10), 0, 0, 0],\n",
    "              [0, 1/(betta*10), 0, 0],\n",
    "              [0, 0, 1/(betta*10), 0],\n",
    "              [0, 0, 0, 1/(betta*10)]])\n",
    "E = np.eye(4)\n",
    "F = E - D.dot(A)\n",
    "print('F =')\n",
    "print_matrix(F)"
   ],
   "metadata": {
    "collapsed": false,
    "pycharm": {
     "name": "#%%\n"
    }
   }
  },
  {
   "cell_type": "code",
   "execution_count": 2,
   "outputs": [
    {
     "name": "stdout",
     "output_type": "stream",
     "text": [
      "G =\n",
      "1,57692 \\\\ 1,57692 \\\\ 1,57692 \\\\ 1,57692 \\\\ \n"
     ]
    }
   ],
   "source": [
    "\n",
    "G = D.dot(b)\n",
    "print('G =')\n",
    "print_matrix(G)"
   ],
   "metadata": {
    "collapsed": false,
    "pycharm": {
     "name": "#%%\n"
    }
   }
  },
  {
   "cell_type": "code",
   "execution_count": 3,
   "outputs": [
    {
     "name": "stdout",
     "output_type": "stream",
     "text": [
      "k = 11\n",
      "x_1 =\n",
      "1,57692 \\\\ 1,57692 \\\\ 1,57692 \\\\ 1,57692 \\\\ \n",
      "e =  0.57692\n",
      "\n",
      "x_2 =\n",
      "0,66716 \\\\ 0,66716 \\\\ 0,66716 \\\\ 0,66716 \\\\ \n",
      "e =  0.33284\n",
      "\n",
      "x_3 =\n",
      "1,19202 \\\\ 1,19202 \\\\ 1,19202 \\\\ 1,19202 \\\\ \n",
      "e =  0.19202\n",
      "\n",
      "x_4 =\n",
      "0,88922 \\\\ 0,88922 \\\\ 0,88922 \\\\ 0,88922 \\\\ \n",
      "e =  0.11078\n",
      "\n",
      "x_5 =\n",
      "1,06391 \\\\ 1,06391 \\\\ 1,06391 \\\\ 1,06391 \\\\ \n",
      "e =  0.06391\n",
      "\n",
      "x_6 =\n",
      "0,96313 \\\\ 0,96313 \\\\ 0,96313 \\\\ 0,96313 \\\\ \n",
      "e =  0.03687\n",
      "\n",
      "x_7 =\n",
      "1,02127 \\\\ 1,02127 \\\\ 1,02127 \\\\ 1,02127 \\\\ \n",
      "e =  0.02127\n",
      "\n",
      "x_8 =\n",
      "0,98773 \\\\ 0,98773 \\\\ 0,98773 \\\\ 0,98773 \\\\ \n",
      "e =  0.01227\n",
      "\n",
      "x_9 =\n",
      "1,00708 \\\\ 1,00708 \\\\ 1,00708 \\\\ 1,00708 \\\\ \n",
      "e =  0.00708\n",
      "\n"
     ]
    }
   ],
   "source": [
    "F_cheb = max(np.sum(abs(F), axis=1))\n",
    "G_cheb = max(abs(G))\n",
    "\n",
    "k = 0\n",
    "while True:\n",
    "    x = F_cheb ** k / (1 - F_cheb) * G_cheb\n",
    "    if abs(x) < 0.01:\n",
    "        break\n",
    "    k += 1\n",
    "print('k =', k)\n",
    "\n",
    "x = np.zeros(4)\n",
    "error = 1\n",
    "i = 0\n",
    "while error > 0.01:\n",
    "    i += 1\n",
    "    x = F.dot(x) + G\n",
    "    error = max(abs(x - [1, 1, 1, 1]))\n",
    "    print(f'x_{i} =')\n",
    "\n",
    "    print_matrix(x)\n",
    "    print('e = ', round(error, 5))\n",
    "    print()\n"
   ],
   "metadata": {
    "collapsed": false,
    "pycharm": {
     "name": "#%%\n"
    }
   }
  },
  {
   "cell_type": "code",
   "execution_count": 4,
   "outputs": [
    {
     "name": "stdout",
     "output_type": "stream",
     "text": [
      "Задание 1.2\n",
      "Q =\n",
      "0 & 0 & 0 & 0 \\\\\n",
      "-0,0962 & 0 & 0 & 0 \\\\\n",
      "-0,1923 & -0,2885 & 0 & 0 \\\\\n",
      "-0,2885 & -0,1923 & -0,0962 & 0 \\\\\n",
      "P =\n",
      "0 & -0,0962 & -0,1923 & -0,2885 \\\\\n",
      "0 & 0 & -0,2885 & -0,1923 \\\\\n",
      "0 & 0 & 0 & -0,0962 \\\\\n",
      "0 & 0 & 0 & 0 \\\\\n"
     ]
    }
   ],
   "source": [
    "\n",
    "# Задание 1.2\n",
    "# Найти решение системы линейных уравнений методом Зейделя с точностью 0.01\n",
    "print(\"Задание 1.2\")\n",
    "D = np.zeros((4, 4))\n",
    "for i in range(4):\n",
    "    D[i][i] = F[i][i]\n",
    "B= np.tril(F) + D\n",
    "Q = B - D\n",
    "P = F - Q\n",
    "print('Q =')\n",
    "print_matrix(Q)\n",
    "print('P =')\n",
    "print_matrix(P)\n",
    "\n"
   ],
   "metadata": {
    "collapsed": false,
    "pycharm": {
     "name": "#%%\n"
    }
   }
  },
  {
   "cell_type": "code",
   "execution_count": 5,
   "outputs": [
    {
     "name": "stdout",
     "output_type": "stream",
     "text": [
      "x_1 =\n",
      "1,57692 \\\\ 1,4253 \\\\ 0,86253 \\\\ 0,76501 \\\\ \n",
      "e =  0.57692\n",
      "\n",
      "x_2 =\n",
      "1,05333 \\\\ 1,07972 \\\\ 0,98934 \\\\ 0,97031 \\\\ \n",
      "e =  0.07972\n",
      "\n",
      "x_3 =\n",
      "1,00295 \\\\ 1,0085 \\\\ 0,99984 \\\\ 0,99753 \\\\ \n",
      "e =  0.0085\n",
      "\n"
     ]
    }
   ],
   "source": [
    "y = np.zeros(4)\n",
    "error = 1\n",
    "i = 0\n",
    "while error > 0.01:\n",
    "    i += 1\n",
    "    y = np.linalg.matrix_power(E - Q, -1)@P@y + np.linalg.matrix_power(E - Q, -1)@G\n",
    "    error = max(abs(y - [1, 1, 1, 1]))\n",
    "    print(f'x_{i} =')\n",
    "\n",
    "    print_matrix(y)\n",
    "    print('e = ', round(error, 5))\n",
    "    print()"
   ],
   "metadata": {
    "collapsed": false,
    "pycharm": {
     "name": "#%%\n"
    }
   }
  },
  {
   "cell_type": "markdown",
   "source": [
    "Метод касательных"
   ],
   "metadata": {
    "collapsed": false,
    "pycharm": {
     "name": "#%% md\n"
    }
   }
  },
  {
   "cell_type": "code",
   "execution_count": 26,
   "outputs": [
    {
     "name": "stdout",
     "output_type": "stream",
     "text": [
      "1\n",
      "-1.1276071154\n",
      "0.1276877725\n",
      "2\n",
      "-1.0116152683\n",
      "0.0116959254\n",
      "3\n",
      "-1.0000316716\n",
      "0.0001123287\n",
      "4\n",
      "-0.9999193534\n",
      "1.05e-08\n"
     ]
    }
   ],
   "source": [
    "import scipy\n",
    "def f(x):\n",
    "    return 6.197*x**3 - 12.403*x**2 - 6.2*x + 12.397\n",
    "x = -1.5\n",
    "i = 0\n",
    "x_otv = -0.9999193429\n",
    "while True:\n",
    "    i+=1\n",
    "    print(i)\n",
    "    x = x - f(x)/scipy.misc.derivative(f, x,dx=1e-10)\n",
    "    print(round(x, 10))\n",
    "    print(round(abs(x - x_otv), 10))\n",
    "    if abs(x - x_otv) < 0.0001:\n",
    "        break"
   ],
   "metadata": {
    "collapsed": false,
    "pycharm": {
     "name": "#%%\n"
    }
   }
  },
  {
   "cell_type": "markdown",
   "source": [
    "Метод секущих"
   ],
   "metadata": {
    "collapsed": false,
    "pycharm": {
     "name": "#%% md\n"
    }
   }
  },
  {
   "cell_type": "code",
   "execution_count": 28,
   "outputs": [
    {
     "name": "stdout",
     "output_type": "stream",
     "text": [
      "1\n",
      "1.6937628257\n",
      "0.3083335013\n",
      "2\n",
      "1.8394531563\n",
      "0.1626431707\n",
      "3\n",
      "1.9247925463\n",
      "0.0773037807\n",
      "4\n",
      "1.9674072239\n",
      "0.0346891031\n",
      "5\n",
      "1.9869570229\n",
      "0.0151393041\n",
      "6\n",
      "1.9955716259\n",
      "0.0065247011\n",
      "7\n",
      "1.9992997515\n",
      "0.0027965755\n",
      "8\n",
      "2.0009005181\n",
      "0.0011958089\n",
      "9\n",
      "2.001585522\n",
      "0.000510805\n",
      "10\n",
      "2.0018782249\n",
      "0.0002181021\n",
      "11\n",
      "2.0020032195\n",
      "0.0000931075\n"
     ]
    }
   ],
   "source": [
    "x = 1.5\n",
    "i = 0\n",
    "b = 2.5\n",
    "x_otv = 2.002096327\n",
    "while True:\n",
    "    i+=1\n",
    "    print(i)\n",
    "    x = x - f(x)*(x - b)/(f(x) - f(b))\n",
    "    print(round(x, 10))\n",
    "    print((\"%.10f\" % round(abs(x - x_otv), 10)).rstrip('0').rstrip('.'))\n",
    "    if abs(x - x_otv) < 0.0001:\n",
    "        break"
   ],
   "metadata": {
    "collapsed": false,
    "pycharm": {
     "name": "#%%\n"
    }
   }
  },
  {
   "cell_type": "markdown",
   "source": [
    "Метод деления отрезка пополам"
   ],
   "metadata": {
    "collapsed": false,
    "pycharm": {
     "name": "#%% md\n"
    }
   }
  },
  {
   "cell_type": "code",
   "execution_count": 30,
   "outputs": [
    {
     "name": "stdout",
     "output_type": "stream",
     "text": [
      "1\n",
      "1.0\n",
      "0.000724668\n",
      "2\n",
      "0.75\n",
      "0.249275332\n",
      "3\n",
      "0.875\n",
      "0.124275332\n",
      "4\n",
      "0.9375\n",
      "0.061775332\n",
      "5\n",
      "0.96875\n",
      "0.030525332\n",
      "6\n",
      "0.984375\n",
      "0.014900332\n",
      "7\n",
      "0.9921875\n",
      "0.007087832\n",
      "8\n",
      "0.99609375\n",
      "0.003181582\n",
      "9\n",
      "0.998046875\n",
      "0.001228457\n",
      "10\n",
      "0.9990234375\n",
      "0.0002518945\n",
      "11\n",
      "0.9995117188\n",
      "0.0002363868\n",
      "12\n",
      "0.9992675781\n",
      "0.0000077539\n"
     ]
    }
   ],
   "source": [
    "a = 0.5\n",
    "b = 1.5\n",
    "i = 0\n",
    "x_otv = 0.9992753320\n",
    "while True:\n",
    "    i+=1\n",
    "    print(i)\n",
    "    x = (a + b)/2\n",
    "    print(round(x, 10))\n",
    "    print((\"%.10f\" % round(abs(x - x_otv), 10)).rstrip('0').rstrip('.'))\n",
    "    if abs(x - x_otv) < 0.0001:\n",
    "        break\n",
    "    if f(x) > 0:\n",
    "        a = x\n",
    "    else:\n",
    "        b = x"
   ],
   "metadata": {
    "collapsed": false,
    "pycharm": {
     "name": "#%%\n"
    }
   }
  },
  {
   "cell_type": "code",
   "execution_count": null,
   "outputs": [],
   "source": [],
   "metadata": {
    "collapsed": false,
    "pycharm": {
     "name": "#%%\n"
    }
   }
  }
 ],
 "metadata": {
  "kernelspec": {
   "display_name": "Python 3",
   "language": "python",
   "name": "python3"
  },
  "language_info": {
   "codemirror_mode": {
    "name": "ipython",
    "version": 2
   },
   "file_extension": ".py",
   "mimetype": "text/x-python",
   "name": "python",
   "nbconvert_exporter": "python",
   "pygments_lexer": "ipython2",
   "version": "2.7.6"
  }
 },
 "nbformat": 4,
 "nbformat_minor": 0
}