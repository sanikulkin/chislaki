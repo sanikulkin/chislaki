{
 "cells": [
  {
   "cell_type": "code",
   "execution_count": 2,
   "id": "6b779944",
   "metadata": {},
   "outputs": [],
   "source": [
    "##ЗАДАНИЕ 1.1"
   ]
  },
  {
   "cell_type": "code",
   "execution_count": 60,
   "id": "4a3b7ccb",
   "metadata": {},
   "outputs": [],
   "source": [
    "import numpy as np\n",
    "from numpy import linalg as la\n",
    "\n",
    "N = 12\n",
    "n = 52\n",
    "ALPHA = (n - 50) / 100"
   ]
  },
  {
   "cell_type": "code",
   "execution_count": 61,
   "id": "6a3bcb35",
   "metadata": {},
   "outputs": [],
   "source": [
    "A = np.array([\n",
    "    [50 * (1 + 0.5 * N + ALPHA), 50 * (1 + 0.5 * N), 50 * (1 + 0.5 * N)],\n",
    "    [50.1 * (1 + 0.5 * N), 49.9 * (1 + 0.5 * N + ALPHA), 50 * (1 + 0.5 * N)],\n",
    "    [49.9 * (1 + 0.5 * N), 50 * (1 + 0.5 * N), 50.1 * (1 + 0.5 * N + ALPHA)]\n",
    "])\n",
    "b = np.array([50 * (3 + 1.5 * N + ALPHA), 50 * (3 + 1.5 * N + ALPHA), 50 * (3 + 1.5 * N + ALPHA)])\n",
    "b_mistake = np.array([50 * (3 + 1.5 * N + ALPHA) * (1 + 0.01), 50 * (3 + 1.5 * N + ALPHA) * (1 - 0.01), 50 * (3 + 1.5 * N + ALPHA) * (1 + 0.01)])"
   ]
  },
  {
   "cell_type": "code",
   "execution_count": 62,
   "id": "47f11f1f",
   "metadata": {},
   "outputs": [
    {
     "name": "stdout",
     "output_type": "stream",
     "text": [
      "Матрица СЛАУ\n",
      " [[351.    350.    350.   ]\n",
      " [350.7   350.298 350.   ]\n",
      " [349.3   350.    351.702]] \n",
      "Правая часть [1051. 1051. 1051.] Правая часть ошибки\n",
      " [1061.51 1040.49 1061.51]\n"
     ]
    }
   ],
   "source": [
    "print(\"Матрица СЛАУ\\n\", A, \"\\nПравая часть\", b, \"Правая часть ошибки\\n\", b_mistake)"
   ]
  },
  {
   "cell_type": "code",
   "execution_count": 63,
   "id": "910c434c",
   "metadata": {},
   "outputs": [],
   "source": [
    "A_inv = la.inv(A)"
   ]
  },
  {
   "cell_type": "code",
   "execution_count": 64,
   "id": "3649eb17",
   "metadata": {},
   "outputs": [
    {
     "name": "stdout",
     "output_type": "stream",
     "text": [
      "Обратная матрица к А\n",
      " [[ 1.31169874 -1.11544741 -0.1953016 ]\n",
      " [-2.03520261  2.23277106 -0.19661235]\n",
      " [ 0.72261331 -1.11413666  0.39247196]]\n"
     ]
    }
   ],
   "source": [
    "print(\"Обратная матрица к А\\n\", A_inv)"
   ]
  },
  {
   "cell_type": "code",
   "execution_count": 65,
   "id": "6bda4202",
   "metadata": {},
   "outputs": [],
   "source": [
    "A_abs = np.absolute(A)\n",
    "A_inv_abs = np.absolute(A_inv)"
   ]
  },
  {
   "cell_type": "code",
   "execution_count": 66,
   "id": "74a2b27f",
   "metadata": {},
   "outputs": [
    {
     "name": "stdout",
     "output_type": "stream",
     "text": [
      "Модуль элементов A\n",
      " [[351.    350.    350.   ]\n",
      " [350.7   350.298 350.   ]\n",
      " [349.3   350.    351.702]] \n",
      "\n",
      " Модуль элементов обратной к А\n",
      " [[1.31169874 1.11544741 0.1953016 ]\n",
      " [2.03520261 2.23277106 0.19661235]\n",
      " [0.72261331 1.11413666 0.39247196]]\n"
     ]
    }
   ],
   "source": [
    "print(\"Модуль элементов A\\n\", A_abs, \"\\n\\n\", \"Модуль элементов обратной к А\\n\", A_inv_abs)"
   ]
  },
  {
   "cell_type": "code",
   "execution_count": 67,
   "id": "afbcd67d",
   "metadata": {},
   "outputs": [],
   "source": [
    "A_norm = la.norm(A, np.inf)\n",
    "A_inv_norm = la.norm(A_inv, np.inf) \n",
    "cond_A = A_norm * A_inv_norm\n",
    "check_cond_A = la.cond(A, np.inf)"
   ]
  },
  {
   "cell_type": "code",
   "execution_count": 68,
   "id": "774501fc",
   "metadata": {},
   "outputs": [
    {
     "name": "stdout",
     "output_type": "stream",
     "text": [
      "Норма А =  1051.002 \n",
      "Норма обратной матрицы к А =  4.464586029622445\n",
      "Число обусловленности A =  4692.288846305249 \n",
      "Проверка =  4692.288846305249\n"
     ]
    }
   ],
   "source": [
    "print(\"Норма А = \", A_norm, \"\\nНорма обратной матрицы к А = \", A_inv_norm)\n",
    "print(\"Число обусловленности A = \", cond_A, \"\\nПроверка = \", check_cond_A)"
   ]
  },
  {
   "cell_type": "code",
   "execution_count": 73,
   "id": "92a73dfc",
   "metadata": {},
   "outputs": [],
   "source": [
    "x = la.solve(A, b)"
   ]
  },
  {
   "cell_type": "code",
   "execution_count": 77,
   "id": "7110b12f",
   "metadata": {},
   "outputs": [
    {
     "name": "stdout",
     "output_type": "stream",
     "text": [
      "Решение СЛАУ\n",
      " [0.99815971 1.00485877 0.99698678]\n"
     ]
    }
   ],
   "source": [
    "print(\"Решение СЛАУ\\n\", x)"
   ]
  },
  {
   "cell_type": "code",
   "execution_count": 78,
   "id": "0c512226",
   "metadata": {},
   "outputs": [],
   "source": [
    "delta_b = b_mistake - b"
   ]
  },
  {
   "cell_type": "code",
   "execution_count": 79,
   "id": "b128449f",
   "metadata": {},
   "outputs": [
    {
     "name": "stdout",
     "output_type": "stream",
     "text": [
      "Дельта b\n",
      " [ 10.51 -10.51  10.51]\n"
     ]
    }
   ],
   "source": [
    "print(\"Дельта b\\n\", delta_b)"
   ]
  },
  {
   "cell_type": "code",
   "execution_count": 80,
   "id": "c5cd27f9",
   "metadata": {},
   "outputs": [],
   "source": [
    "delta_x = np.dot(A_inv, delta_b)"
   ]
  },
  {
   "cell_type": "code",
   "execution_count": 81,
   "id": "6e17d1cc",
   "metadata": {},
   "outputs": [
    {
     "name": "stdout",
     "output_type": "stream",
     "text": [
      "Дельта x\n",
      " [ 23.45668616 -46.92279917  23.42912248]\n"
     ]
    }
   ],
   "source": [
    "print(\"Дельта x\\n\", delta_x)"
   ]
  },
  {
   "cell_type": "code",
   "execution_count": 82,
   "id": "4206ae29",
   "metadata": {},
   "outputs": [],
   "source": [
    "inac = la.norm(delta_x, np.inf) / la.norm(x, np.inf) "
   ]
  },
  {
   "cell_type": "code",
   "execution_count": 83,
   "id": "99e4ee8e",
   "metadata": {},
   "outputs": [
    {
     "name": "stdout",
     "output_type": "stream",
     "text": [
      "Погрешность\n",
      " 46.69591461027572\n"
     ]
    }
   ],
   "source": [
    "print(\"Погрешность\\n\", inac)"
   ]
  },
  {
   "cell_type": "code",
   "execution_count": 84,
   "id": "d04da785",
   "metadata": {},
   "outputs": [
    {
     "name": "stdout",
     "output_type": "stream",
     "text": [
      "46.92288846305245\n"
     ]
    }
   ],
   "source": [
    "print(cond_A * la.norm(delta_b, np.inf) / la.norm(b, np.inf))"
   ]
  },
  {
   "cell_type": "code",
   "execution_count": null,
   "id": "77f5ff35",
   "metadata": {},
   "outputs": [],
   "source": []
  }
 ],
 "metadata": {
  "kernelspec": {
   "display_name": "Python 3 (ipykernel)",
   "language": "python",
   "name": "python3"
  },
  "language_info": {
   "codemirror_mode": {
    "name": "ipython",
    "version": 3
   },
   "file_extension": ".py",
   "mimetype": "text/x-python",
   "name": "python",
   "nbconvert_exporter": "python",
   "pygments_lexer": "ipython3",
   "version": "3.10.4"
  }
 },
 "nbformat": 4,
 "nbformat_minor": 5
}
