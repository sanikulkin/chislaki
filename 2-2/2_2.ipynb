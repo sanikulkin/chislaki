{
 "cells": [
  {
   "cell_type": "code",
   "execution_count": 646,
   "outputs": [],
   "source": [
    "import matplotlib.pyplot as plt\n",
    "\n",
    "\n",
    "def print_matrix(matrix):\n",
    "    if len(matrix.shape) == 2:\n",
    "        for i in range(matrix.shape[0]):\n",
    "            row = ''\n",
    "            for j in range(matrix.shape[1]):\n",
    "                kek = matrix[i][j]\n",
    "                if kek > 0:\n",
    "                    row += str((round(kek, 5))) + ' & '\n",
    "                else:\n",
    "                    row += str((round(kek, 4))) + ' & '\n",
    "            row = row[:-2]\n",
    "            row += '\\\\\\\\'\n",
    "            print(row)\n",
    "    elif len(matrix.shape) == 1:\n",
    "        row = ''\n",
    "        for i in range(matrix.shape[0]):\n",
    "            kek = matrix[i]\n",
    "            if kek > 0:\n",
    "                row += str((round(kek, 5))) + ' \\\\\\\\ '\n",
    "            else:\n",
    "                row += str((round(kek, 4))) + ' \\\\\\\\ '\n",
    "        print(row)"
   ],
   "metadata": {
    "collapsed": false,
    "pycharm": {
     "name": "#%%\n"
    }
   }
  },
  {
   "cell_type": "code",
   "execution_count": 647,
   "outputs": [],
   "source": [
    "import numpy as np\n",
    "def F(t):\n",
    "    return 2*np.sin(np.pi*t/2)*np.sqrt(2*(58-51) + t**2*np.sqrt(23-1))\n",
    "# def F(t):\n",
    "#     return 3*np.sin(np.pi*t)*np.sqrt(14 + t*np.sqrt(29))"
   ],
   "metadata": {
    "collapsed": false,
    "pycharm": {
     "name": "#%%\n"
    }
   }
  },
  {
   "cell_type": "code",
   "execution_count": 648,
   "outputs": [
    {
     "name": "stdout",
     "output_type": "stream",
     "text": [
      "0.0 \\\\ 0.2 \\\\ 0.4 \\\\ 0.6 \\\\ 0.8 \\\\ 1.0 \\\\ 1.2 \\\\ 1.4 \\\\ 1.6 \\\\ 1.8 \\\\ 2.0 \\\\ \n"
     ]
    }
   ],
   "source": [
    "# A = np.linspace(0, 1, 41)\n",
    "A = np.linspace(0, 2, 11)\n",
    "print_matrix(A)"
   ],
   "metadata": {
    "collapsed": false,
    "pycharm": {
     "name": "#%%\n"
    }
   }
  },
  {
   "cell_type": "code",
   "execution_count": 649,
   "outputs": [
    {
     "name": "stdout",
     "output_type": "stream",
     "text": [
      "0.0 \\\\ 2.32791 \\\\ 4.51494 \\\\ 6.40883 \\\\ 7.84304 \\\\ 8.64648 \\\\ 8.66541 \\\\ 7.79234 \\\\ 5.99512 \\\\ 3.3395 \\\\ 0.0 \\\\ \n"
     ]
    }
   ],
   "source": [
    "y = np.array([F(val) for val in A])\n",
    "print_matrix(y)"
   ],
   "metadata": {
    "collapsed": false,
    "pycharm": {
     "name": "#%%\n"
    }
   }
  },
  {
   "cell_type": "code",
   "execution_count": 650,
   "outputs": [
    {
     "name": "stdout",
     "output_type": "stream",
     "text": [
      "0.0 \\\\ 2.32791 \\\\ 4.51494 \\\\ 6.40883 \\\\ 7.84304 \\\\ 8.64648 \\\\ 8.66541 \\\\ 7.79234 \\\\ 5.99512 \\\\ 3.3395 \\\\ \n"
     ]
    }
   ],
   "source": [
    "a_i = y[:-1]\n",
    "print_matrix(a_i)"
   ],
   "metadata": {
    "collapsed": false,
    "pycharm": {
     "name": "#%%\n"
    }
   }
  },
  {
   "cell_type": "code",
   "execution_count": 651,
   "outputs": [
    {
     "name": "stdout",
     "output_type": "stream",
     "text": [
      "[0.2 0.2 0.2 0.2 0.2 0.2 0.2 0.2 0.2 0.2]\n",
      "11.63957 \\\\ 10.9351 \\\\ 9.46949 \\\\ 7.17105 \\\\ 4.0172 \\\\ 0.09466 \\\\ -4.3653 \\\\ -8.9861 \\\\ -13.2781 \\\\ \n"
     ]
    }
   ],
   "source": [
    "h_i = A[1:] - A[:-1]\n",
    "print(h_i)\n",
    "g_i = (y[1:-1] - y[:-2])/h_i[0]\n",
    "print_matrix(g_i)"
   ],
   "metadata": {
    "collapsed": false,
    "pycharm": {
     "name": "#%%\n"
    }
   }
  },
  {
   "cell_type": "code",
   "execution_count": 652,
   "outputs": [
    {
     "name": "stdout",
     "output_type": "stream",
     "text": [
      "0.8 & 0.2 & 0.0 & 0.0 & 0.0 & 0.0 & 0.0 & 0.0 \\\\\n",
      "0.2 & 0.8 & 0.2 & 0.0 & 0.0 & 0.0 & 0.0 & 0.0 \\\\\n",
      "0.0 & 0.2 & 0.8 & 0.2 & 0.0 & 0.0 & 0.0 & 0.0 \\\\\n",
      "0.0 & 0.0 & 0.2 & 0.8 & 0.2 & 0.0 & 0.0 & 0.0 \\\\\n",
      "0.0 & 0.0 & 0.0 & 0.2 & 0.8 & 0.2 & 0.0 & 0.0 \\\\\n",
      "0.0 & 0.0 & 0.0 & 0.0 & 0.2 & 0.8 & 0.2 & 0.0 \\\\\n",
      "0.0 & 0.0 & 0.0 & 0.0 & 0.0 & 0.2 & 0.8 & 0.2 \\\\\n",
      "0.0 & 0.0 & 0.0 & 0.0 & 0.0 & 0.0 & 0.2 & 0.8 \\\\\n"
     ]
    }
   ],
   "source": [
    "c_matr = np.zeros((len(A)-3, len(A)-3))\n",
    "for i in range(len(A)-3):\n",
    "    c_matr[i][i] = 2*(h_i[i] + h_i[i+1])\n",
    "    if i != len(A)-4:\n",
    "        c_matr[i][i+1] = h_i[i+1]\n",
    "        c_matr[i+1][i] = h_i[i+1]\n",
    "print_matrix(c_matr)"
   ],
   "metadata": {
    "collapsed": false,
    "pycharm": {
     "name": "#%%\n"
    }
   }
  },
  {
   "cell_type": "code",
   "execution_count": 653,
   "outputs": [
    {
     "name": "stdout",
     "output_type": "stream",
     "text": [
      "-2.1134 \\\\ -4.3968 \\\\ -6.8953 \\\\ -9.4615 \\\\ -11.7676 \\\\ -13.38 \\\\ -13.8624 \\\\ -12.8759 \\\\ \n",
      "\n",
      "0.0 \\\\ -1.7342 \\\\ -3.6302 \\\\ -5.729 \\\\ -7.9303 \\\\ -9.8574 \\\\ -11.4781 \\\\ -11.1304 \\\\ -13.3123 \\\\ 0.0 \\\\ \n"
     ]
    }
   ],
   "source": [
    "right_matr = 3*(g_i[1:] - g_i[:-1])\n",
    "print_matrix(right_matr)\n",
    "print()\n",
    "c_matr_inv = np.linalg.inv(c_matr)\n",
    "c_i = np.dot(c_matr_inv, right_matr)\n",
    "c_i = np.insert(c_i, 0, 0)\n",
    "c_i = np.append(c_i, 0)\n",
    "print_matrix(c_i)"
   ],
   "metadata": {
    "collapsed": false,
    "pycharm": {
     "name": "#%%\n"
    }
   }
  },
  {
   "cell_type": "code",
   "execution_count": 654,
   "outputs": [
    {
     "name": "stdout",
     "output_type": "stream",
     "text": [
      "11.75519 \\\\ 11.40835 \\\\ 10.33546 \\\\ 8.46361 \\\\ 5.73173 \\\\ 2.17418 \\\\ -2.0929 \\\\ -6.6146 \\\\ -11.5031 \\\\ -12.3906 \\\\ \n"
     ]
    }
   ],
   "source": [
    "b_i = g_i - h_i[:-1]/3 * (2*c_i[:-1] + c_i[1:])\n",
    "b_i = np.append(b_i, b_i[-1] + h_i[-2]/3 * (c_i[-2] + c_i[-1]))\n",
    "print_matrix(b_i)"
   ],
   "metadata": {
    "collapsed": false,
    "pycharm": {
     "name": "#%%\n"
    }
   }
  },
  {
   "cell_type": "code",
   "execution_count": 655,
   "outputs": [
    {
     "name": "stdout",
     "output_type": "stream",
     "text": [
      "-2.8903 \\\\ -3.16 \\\\ -3.498 \\\\ -3.6688 \\\\ -3.2119 \\\\ -2.7011 \\\\ 0.57953 \\\\ -3.6366 \\\\ 22.18715 \\\\ -107.6718 \\\\ \n"
     ]
    }
   ],
   "source": [
    "d_i = (c_i[1:] - c_i[:-1])/(3*h_i[:-1])\n",
    "d_i = np.append(d_i, 1/(h_i[-1]**3) * (y[-1] - a_i[-1] - h_i[-1]*b_i[-1] - h_i[-1]**2*c_i[-1]))\n",
    "print_matrix(d_i)"
   ],
   "metadata": {
    "collapsed": false,
    "pycharm": {
     "name": "#%%d_i = (c_i[1:] - c_i[:-1])/(3*h_i[1:])\n"
    }
   }
  },
  {
   "cell_type": "code",
   "execution_count": 656,
   "outputs": [
    {
     "name": "stdout",
     "output_type": "stream",
     "text": [
      "[0.0, 1.1726284309509392, 2.327914803736779, 3.4482473661878066, 4.514935590115846, 5.508681266270258, 6.4088342371689935, 7.194235594439307, 7.843043374377097, 8.33370177512765, 8.646482697565164, 8.762625766237788, 8.665413797660673, 8.34192100448289, 7.792343991922258, 7.015943863944911, 5.9951173269414415, 4.733868703578231, 3.3394971792003205, 1.9927639269047093, 1.3322676295501878e-15]\n",
      "[0.0, 1.1726077133815458, 2.327914803736779, 3.448193073864191, 4.514935590115846, 5.508648462183054, 6.408834237168993, 7.194192975959549, 7.843043374377098, 8.333944669401772, 8.646482697565162, 8.762171348388469, 8.665413797660674, 8.34446569318303, 7.792343991922258, 7.007629479303642, 5.9951173269414415, 4.766277724754137, 3.3394971792003196, 1.7400801470371952, 1.4019218899703672e-15]\n"
     ]
    },
    {
     "data": {
      "text/plain": "<Figure size 640x480 with 1 Axes>",
      "image/png": "[encoded data removed]"
     },
     "metadata": {},
     "output_type": "display_data"
    }
   ],
   "source": [
    "def splain(A, t):\n",
    "    for i in range(len(A)-1):\n",
    "        if A[i] <= t <= A[i+1]:\n",
    "            return a_i[i] + b_i[i]*(t - A[i]) + c_i[i]*(t - A[i])**2 + d_i[i]*(t - A[i])**3\n",
    "sp_vec = []\n",
    "for x in A:\n",
    "    sp_vec.append(splain(A, x))\n",
    "\n",
    "\n",
    "graph_x = np.linspace(0, 2, 21)\n",
    "print([splain(A, x) for x in graph_x])\n",
    "print([F(x) for x in graph_x])\n",
    "plt.plot(graph_x, [splain(A, x) for x in graph_x], 'ro', label='$spl_3(A; {}^{>} y)$')\n",
    "plt.plot(graph_x, F(graph_x), label='$F(\\\\tau)$')\n",
    "plt.legend()\n",
    "plt.grid()\n",
    "plt.savefig('1.png')\n",
    "plt.show()"
   ],
   "metadata": {
    "collapsed": false,
    "pycharm": {
     "name": "#%%\n"
    }
   }
  },
  {
   "cell_type": "code",
   "execution_count": 657,
   "outputs": [
    {
     "name": "stdout",
     "output_type": "stream",
     "text": [
      "[0.  0.1 0.2 0.3 0.4 0.5 0.6 0.7 0.8 0.9 1.  1.1 1.2 1.3 1.4 1.5 1.6 1.7\n",
      " 1.8 1.9 2. ]\n"
     ]
    },
    {
     "data": {
      "text/plain": "<Figure size 640x480 with 1 Axes>",
      "image/png": "[encoded data removed]"
     },
     "metadata": {},
     "output_type": "display_data"
    }
   ],
   "source": [
    "def splain_derivative(A, t):\n",
    "    for i in range(len(A)-1):\n",
    "        if A[i] <= t <= A[i+1]:\n",
    "            return b_i[i] + 2*c_i[i]*(t - A[i]) + 3*d_i[i]*(t - A[i])**2\n",
    "\n",
    "def F_derivative(t):\n",
    "    return (np.pi*(np.sqrt(22)*t**2 + 14)*np.cos(np.pi*t/2) + 2*np.sqrt(22)*t*np.sin(np.pi*t/2))/np.sqrt(np.sqrt(22)*t**2 + 14)\n",
    "\n",
    "\n",
    "graph_x = np.linspace(0, 2, 21)\n",
    "print(graph_x)\n",
    "plt.plot(graph_x, [splain_derivative(A, x) for x in graph_x], 'ro', label='$ \\dfrac {d spl_3(A; {}^{>} y)} {d \\\\tau}$')\n",
    "plt.plot(graph_x, F_derivative(graph_x), label='$\\dfrac {d F(\\\\tau)} {d \\\\tau}$')\n",
    "plt.legend()\n",
    "plt.grid()\n",
    "plt.savefig('2.png')\n",
    "plt.show()"
   ],
   "metadata": {
    "collapsed": false,
    "pycharm": {
     "name": "#%%\n"
    }
   }
  },
  {
   "cell_type": "code",
   "execution_count": 657,
   "outputs": [],
   "source": [],
   "metadata": {
    "collapsed": false,
    "pycharm": {
     "name": "#%%\n"
    }
   }
  }
 ],
 "metadata": {
  "kernelspec": {
   "display_name": "Python 3",
   "language": "python",
   "name": "python3"
  },
  "language_info": {
   "codemirror_mode": {
    "name": "ipython",
    "version": 2
   },
   "file_extension": ".py",
   "mimetype": "text/x-python",
   "name": "python",
   "nbconvert_exporter": "python",
   "pygments_lexer": "ipython2",
   "version": "2.7.6"
  }
 },
 "nbformat": 4,
 "nbformat_minor": 0
}